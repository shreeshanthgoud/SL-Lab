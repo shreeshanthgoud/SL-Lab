{
 "cells": [
  {
   "cell_type": "code",
   "execution_count": 25,
   "id": "b83d61ce",
   "metadata": {},
   "outputs": [
    {
     "name": "stdout",
     "output_type": "stream",
     "text": [
      "Absolute error: 40\n",
      "Mean Absolute Error: 10.0\n"
     ]
    }
   ],
   "source": [
    "x = [2,7,8,9]\n",
    "y = [13,15,19,17]\n",
    "\n",
    "w = 4\n",
    "b = 0\n",
    "sum = 0\n",
    "for i in range (4):\n",
    "    y1 = w*x[i] + b\n",
    "    error = y[i]-y1\n",
    "    sum = sum+error\n",
    "absolute = abs(sum)\n",
    "print(\"Absolute error:\",absolute)\n",
    "avg = absolute/len(x)\n",
    "print(\"Mean Absolute Error:\",avg)"
   ]
  },
  {
   "cell_type": "code",
   "execution_count": 29,
   "id": "28efef08",
   "metadata": {},
   "outputs": [
    {
     "name": "stdout",
     "output_type": "stream",
     "text": [
      "Mean: 724\n",
      "Mean Square Error 181.0\n"
     ]
    }
   ],
   "source": [
    "x = [2,7,8,9]\n",
    "y = [13,15,19,17]\n",
    "\n",
    "w = 4\n",
    "b = 0\n",
    "sum = 0\n",
    "for i in range (4):\n",
    "    y1 = w*x[i] + b\n",
    "    error = (y[i]-y1)**2\n",
    "    sum = sum+error\n",
    "print(\"Mean:\",sum)\n",
    "mean = sum/len(x)\n",
    "print(\"Mean Square Error\",mean)"
   ]
  },
  {
   "cell_type": "code",
   "execution_count": 2,
   "id": "a85b023c",
   "metadata": {},
   "outputs": [],
   "source": [
    "x = [2,7,8,9]\n",
    "y = [13,15,19,17]\n",
    "w = 4\n",
    "b = 0\n",
    "\n",
    "def calculate_error(y_true, y_pred):\n",
    "    return (y_true - y_pred) ** 2\n",
    "\n",
    "def predict(x, w, b):\n",
    "    return w * x + b\n",
    "\n",
    "def calculate_mean_squared_error(x, y, w, b):\n",
    "    total_error = 0\n",
    "    for i in range(len(x)):\n",
    "        y_pred = predict(x[i], w, b)\n",
    "        error = calculate_error(y[i], y_pred)\n",
    "        total_error += error\n",
    "    mse = total_error / len(x)\n",
    "    return mse\n"
   ]
  },
  {
   "cell_type": "code",
   "execution_count": 1,
   "id": "268a059a",
   "metadata": {},
   "outputs": [
    {
     "name": "stdout",
     "output_type": "stream",
     "text": [
      "Mean Square Error: 181.0\n"
     ]
    }
   ],
   "source": [
    "def predict(x, w, b):\n",
    "    return w * x + b\n",
    "\n",
    "def calculate_error(y, y1):\n",
    "    return (y - y1) ** 2\n",
    "\n",
    "def calculate_mean_squared_error(x, y, w, b):\n",
    "    sum = 0\n",
    "    for i in range(len(x)):\n",
    "        y1 = predict(x[i], w, b)\n",
    "        error = calculate_error(y[i], y1)\n",
    "        sum += error\n",
    "    mse = sum / len(x)\n",
    "    return mse\n",
    "x = [2, 7, 8, 9]\n",
    "y = [13, 15, 19, 17]\n",
    "w = 4\n",
    "b = 0\n",
    "mse = calculate_mean_squared_error(x, y, w, b)\n",
    "print(\"Mean Square Error:\", mse)"
   ]
  },
  {
   "cell_type": "code",
   "execution_count": 8,
   "id": "1f330828",
   "metadata": {},
   "outputs": [
    {
     "name": "stdout",
     "output_type": "stream",
     "text": [
      "Absolute error: 40\n",
      "Mean Absolute Error: 10.0\n"
     ]
    }
   ],
   "source": [
    "def calculate_errors_and_sum(x, y, w, b):\n",
    "    total_error = 0\n",
    "    for i in range(len(x)):\n",
    "        y1 = w * x[i] + b\n",
    "        error = y[i] - y1\n",
    "        total_error += error\n",
    "    return abs(total_error)\n",
    "\n",
    "def mean_absolute_error(x, y, w, b):\n",
    "    total_error = calculate_errors_and_sum(x, y, w, b)\n",
    "    return total_error / len(x)\n",
    "\n",
    "# Test the code\n",
    "x = [2, 7, 8, 9]\n",
    "y = [13, 15, 19, 17]\n",
    "w = 4\n",
    "b = 0\n",
    "\n",
    "abs_error = calculate_errors_and_sum(x, y, w, b)\n",
    "mae = mean_absolute_error(x, y, w, b)\n",
    "print(\"Absolute error:\", abs_error)\n",
    "print(\"Mean Absolute Error:\", mae)\n"
   ]
  },
  {
   "cell_type": "code",
   "execution_count": null,
   "id": "3c31b119",
   "metadata": {},
   "outputs": [],
   "source": []
  }
 ],
 "metadata": {
  "kernelspec": {
   "display_name": "Python 3 (ipykernel)",
   "language": "python",
   "name": "python3"
  },
  "language_info": {
   "codemirror_mode": {
    "name": "ipython",
    "version": 3
   },
   "file_extension": ".py",
   "mimetype": "text/x-python",
   "name": "python",
   "nbconvert_exporter": "python",
   "pygments_lexer": "ipython3",
   "version": "3.11.5"
  }
 },
 "nbformat": 4,
 "nbformat_minor": 5
}
