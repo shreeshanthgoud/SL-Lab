{
 "cells": [
  {
   "cell_type": "code",
   "execution_count": 1,
   "id": "f97dfeda",
   "metadata": {},
   "outputs": [],
   "source": [
    "import numpy as np\n",
    "import pandas as pd\n",
    "import matplotlib.pyplot as plt"
   ]
  },
  {
   "cell_type": "code",
   "execution_count": 4,
   "id": "20c8e2c9",
   "metadata": {},
   "outputs": [
    {
     "data": {
      "text/html": [
       "<div>\n",
       "<style scoped>\n",
       "    .dataframe tbody tr th:only-of-type {\n",
       "        vertical-align: middle;\n",
       "    }\n",
       "\n",
       "    .dataframe tbody tr th {\n",
       "        vertical-align: top;\n",
       "    }\n",
       "\n",
       "    .dataframe thead th {\n",
       "        text-align: right;\n",
       "    }\n",
       "</style>\n",
       "<table border=\"1\" class=\"dataframe\">\n",
       "  <thead>\n",
       "    <tr style=\"text-align: right;\">\n",
       "      <th></th>\n",
       "      <th>S.no</th>\n",
       "      <th>Bike_company</th>\n",
       "      <th>Bike_model</th>\n",
       "      <th>Manufactured_year</th>\n",
       "      <th>Engine_warranty</th>\n",
       "      <th>Engine_type</th>\n",
       "      <th>Fuel_type</th>\n",
       "      <th>CC(Cubic capacity)</th>\n",
       "      <th>Fuel_Capacity</th>\n",
       "      <th>Price</th>\n",
       "    </tr>\n",
       "  </thead>\n",
       "  <tbody>\n",
       "    <tr>\n",
       "      <th>0</th>\n",
       "      <td>1</td>\n",
       "      <td>Bajaj</td>\n",
       "      <td>Avenger 220</td>\n",
       "      <td>2020</td>\n",
       "      <td>5.0</td>\n",
       "      <td>Single</td>\n",
       "      <td>Petrol</td>\n",
       "      <td>220CC</td>\n",
       "      <td>10 Litres</td>\n",
       "      <td>113000</td>\n",
       "    </tr>\n",
       "    <tr>\n",
       "      <th>1</th>\n",
       "      <td>2</td>\n",
       "      <td>TVS</td>\n",
       "      <td>Apache RTR</td>\n",
       "      <td>2020</td>\n",
       "      <td>5.0</td>\n",
       "      <td>V-twin</td>\n",
       "      <td>Petrol</td>\n",
       "      <td>120CC</td>\n",
       "      <td>11 Litres</td>\n",
       "      <td>70000</td>\n",
       "    </tr>\n",
       "    <tr>\n",
       "      <th>2</th>\n",
       "      <td>3</td>\n",
       "      <td>Hero</td>\n",
       "      <td>Passion</td>\n",
       "      <td>2020</td>\n",
       "      <td>5.0</td>\n",
       "      <td>Boxer</td>\n",
       "      <td>Petrol</td>\n",
       "      <td>140CC</td>\n",
       "      <td>12 Litres</td>\n",
       "      <td>85000</td>\n",
       "    </tr>\n",
       "    <tr>\n",
       "      <th>3</th>\n",
       "      <td>4</td>\n",
       "      <td>Honda</td>\n",
       "      <td>Activa 3G</td>\n",
       "      <td>2020</td>\n",
       "      <td>5.0</td>\n",
       "      <td>Single</td>\n",
       "      <td>Petrol</td>\n",
       "      <td>150CC</td>\n",
       "      <td>13 Litres</td>\n",
       "      <td>90000</td>\n",
       "    </tr>\n",
       "    <tr>\n",
       "      <th>4</th>\n",
       "      <td>5</td>\n",
       "      <td>Suzuki</td>\n",
       "      <td>Access</td>\n",
       "      <td>2020</td>\n",
       "      <td>5.0</td>\n",
       "      <td>V-twin</td>\n",
       "      <td>Petrol</td>\n",
       "      <td>350CC</td>\n",
       "      <td>14 Litres</td>\n",
       "      <td>65000</td>\n",
       "    </tr>\n",
       "    <tr>\n",
       "      <th>...</th>\n",
       "      <td>...</td>\n",
       "      <td>...</td>\n",
       "      <td>...</td>\n",
       "      <td>...</td>\n",
       "      <td>...</td>\n",
       "      <td>...</td>\n",
       "      <td>...</td>\n",
       "      <td>...</td>\n",
       "      <td>...</td>\n",
       "      <td>...</td>\n",
       "    </tr>\n",
       "    <tr>\n",
       "      <th>303</th>\n",
       "      <td>304</td>\n",
       "      <td>Bgauss</td>\n",
       "      <td>Bgauss B8</td>\n",
       "      <td>2017</td>\n",
       "      <td>3.0</td>\n",
       "      <td>Boxer</td>\n",
       "      <td>Petrol</td>\n",
       "      <td>185CC</td>\n",
       "      <td>19 Litres</td>\n",
       "      <td>81916</td>\n",
       "    </tr>\n",
       "    <tr>\n",
       "      <th>304</th>\n",
       "      <td>305</td>\n",
       "      <td>Bgauss</td>\n",
       "      <td>Bgauss Radiator</td>\n",
       "      <td>2017</td>\n",
       "      <td>3.0</td>\n",
       "      <td>Boxer</td>\n",
       "      <td>Petrol</td>\n",
       "      <td>205CC</td>\n",
       "      <td>20 Litres</td>\n",
       "      <td>82666</td>\n",
       "    </tr>\n",
       "    <tr>\n",
       "      <th>305</th>\n",
       "      <td>306</td>\n",
       "      <td>Bgauss</td>\n",
       "      <td>Bgauss Razor</td>\n",
       "      <td>2017</td>\n",
       "      <td>3.0</td>\n",
       "      <td>Boxer</td>\n",
       "      <td>Petrol</td>\n",
       "      <td>185CC</td>\n",
       "      <td>21 Litres</td>\n",
       "      <td>83416</td>\n",
       "    </tr>\n",
       "    <tr>\n",
       "      <th>306</th>\n",
       "      <td>307</td>\n",
       "      <td>Bgauss</td>\n",
       "      <td>Bgauss Flash</td>\n",
       "      <td>2017</td>\n",
       "      <td>3.0</td>\n",
       "      <td>Boxer</td>\n",
       "      <td>Petrol</td>\n",
       "      <td>205CC</td>\n",
       "      <td>22 Litres</td>\n",
       "      <td>84166</td>\n",
       "    </tr>\n",
       "    <tr>\n",
       "      <th>307</th>\n",
       "      <td>308</td>\n",
       "      <td>Bgauss</td>\n",
       "      <td>Bgauss Hash</td>\n",
       "      <td>2017</td>\n",
       "      <td>3.0</td>\n",
       "      <td>Boxer</td>\n",
       "      <td>Petrol</td>\n",
       "      <td>220CC</td>\n",
       "      <td>23 Litres</td>\n",
       "      <td>84916</td>\n",
       "    </tr>\n",
       "  </tbody>\n",
       "</table>\n",
       "<p>305 rows × 10 columns</p>\n",
       "</div>"
      ],
      "text/plain": [
       "     S.no Bike_company       Bike_model  Manufactured_year  Engine_warranty  \\\n",
       "0       1        Bajaj      Avenger 220               2020              5.0   \n",
       "1       2          TVS       Apache RTR               2020              5.0   \n",
       "2       3         Hero          Passion               2020              5.0   \n",
       "3       4        Honda        Activa 3G               2020              5.0   \n",
       "4       5       Suzuki           Access               2020              5.0   \n",
       "..    ...          ...              ...                ...              ...   \n",
       "303   304       Bgauss        Bgauss B8               2017              3.0   \n",
       "304   305       Bgauss  Bgauss Radiator               2017              3.0   \n",
       "305   306       Bgauss     Bgauss Razor               2017              3.0   \n",
       "306   307       Bgauss     Bgauss Flash               2017              3.0   \n",
       "307   308       Bgauss      Bgauss Hash               2017              3.0   \n",
       "\n",
       "    Engine_type Fuel_type CC(Cubic capacity) Fuel_Capacity   Price  \n",
       "0        Single    Petrol              220CC     10 Litres  113000  \n",
       "1        V-twin    Petrol              120CC     11 Litres   70000  \n",
       "2         Boxer    Petrol              140CC     12 Litres   85000  \n",
       "3        Single    Petrol              150CC     13 Litres   90000  \n",
       "4        V-twin    Petrol              350CC     14 Litres   65000  \n",
       "..          ...       ...                ...           ...     ...  \n",
       "303       Boxer    Petrol              185CC     19 Litres   81916  \n",
       "304       Boxer    Petrol              205CC     20 Litres   82666  \n",
       "305       Boxer    Petrol              185CC     21 Litres   83416  \n",
       "306       Boxer    Petrol              205CC     22 Litres   84166  \n",
       "307       Boxer    Petrol              220CC     23 Litres   84916  \n",
       "\n",
       "[305 rows x 10 columns]"
      ]
     },
     "execution_count": 4,
     "metadata": {},
     "output_type": "execute_result"
    }
   ],
   "source": [
    "df = pd.read_csv('Bike_price.csv')\n",
    "df = df.dropna()\n",
    "df"
   ]
  },
  {
   "cell_type": "code",
   "execution_count": 3,
   "id": "3810d7a2",
   "metadata": {},
   "outputs": [
    {
     "data": {
      "text/plain": [
       "S.no                  0\n",
       "Bike_company          0\n",
       "Bike_model            0\n",
       "Manufactured_year     0\n",
       "Engine_warranty       0\n",
       "Engine_type           0\n",
       "Fuel_type             0\n",
       "CC(Cubic capacity)    0\n",
       "Fuel_Capacity         0\n",
       "Price                 0\n",
       "dtype: int64"
      ]
     },
     "execution_count": 3,
     "metadata": {},
     "output_type": "execute_result"
    }
   ],
   "source": [
    "df.isnull().sum()"
   ]
  },
  {
   "cell_type": "code",
   "execution_count": 5,
   "id": "431fcbf0",
   "metadata": {},
   "outputs": [],
   "source": [
    "df['Bike_company'] = df.groupby('Bike_company')['Price'].transform('mean')"
   ]
  },
  {
   "cell_type": "code",
   "execution_count": 6,
   "id": "b45ca870",
   "metadata": {},
   "outputs": [],
   "source": [
    "df['Bike_model'] = df.groupby('Bike_model')['Price'].transform('mean')"
   ]
  },
  {
   "cell_type": "code",
   "execution_count": 7,
   "id": "baa5001f",
   "metadata": {},
   "outputs": [],
   "source": [
    "df['Engine_type'] = df.groupby('Engine_type')['Price'].transform('mean')"
   ]
  },
  {
   "cell_type": "code",
   "execution_count": 8,
   "id": "3ab09df1",
   "metadata": {},
   "outputs": [],
   "source": [
    "df['Fuel_type'] = df.groupby('Fuel_type')['Price'].transform('mean')"
   ]
  },
  {
   "cell_type": "code",
   "execution_count": 9,
   "id": "0c5e20fa",
   "metadata": {},
   "outputs": [],
   "source": [
    "df['CC(Cubic capacity)'] = df.groupby('CC(Cubic capacity)')['Price'].transform('mean')"
   ]
  },
  {
   "cell_type": "code",
   "execution_count": 10,
   "id": "6a0e35b6",
   "metadata": {},
   "outputs": [],
   "source": [
    "df['Fuel_Capacity'] = df.groupby('Fuel_Capacity')['Price'].transform('mean')"
   ]
  },
  {
   "cell_type": "code",
   "execution_count": 11,
   "id": "c2c0eb9a",
   "metadata": {},
   "outputs": [
    {
     "data": {
      "text/html": [
       "<div>\n",
       "<style scoped>\n",
       "    .dataframe tbody tr th:only-of-type {\n",
       "        vertical-align: middle;\n",
       "    }\n",
       "\n",
       "    .dataframe tbody tr th {\n",
       "        vertical-align: top;\n",
       "    }\n",
       "\n",
       "    .dataframe thead th {\n",
       "        text-align: right;\n",
       "    }\n",
       "</style>\n",
       "<table border=\"1\" class=\"dataframe\">\n",
       "  <thead>\n",
       "    <tr style=\"text-align: right;\">\n",
       "      <th></th>\n",
       "      <th>S.no</th>\n",
       "      <th>Bike_company</th>\n",
       "      <th>Bike_model</th>\n",
       "      <th>Manufactured_year</th>\n",
       "      <th>Engine_warranty</th>\n",
       "      <th>Engine_type</th>\n",
       "      <th>Fuel_type</th>\n",
       "      <th>CC(Cubic capacity)</th>\n",
       "      <th>Fuel_Capacity</th>\n",
       "      <th>Price</th>\n",
       "    </tr>\n",
       "  </thead>\n",
       "  <tbody>\n",
       "    <tr>\n",
       "      <th>0</th>\n",
       "      <td>1</td>\n",
       "      <td>209166.666667</td>\n",
       "      <td>113000.000000</td>\n",
       "      <td>2020</td>\n",
       "      <td>5.0</td>\n",
       "      <td>209231.345679</td>\n",
       "      <td>291938.378906</td>\n",
       "      <td>121299.200000</td>\n",
       "      <td>94000.000000</td>\n",
       "      <td>113000</td>\n",
       "    </tr>\n",
       "    <tr>\n",
       "      <th>1</th>\n",
       "      <td>2</td>\n",
       "      <td>101312.500000</td>\n",
       "      <td>75000.000000</td>\n",
       "      <td>2020</td>\n",
       "      <td>5.0</td>\n",
       "      <td>199862.150000</td>\n",
       "      <td>291938.378906</td>\n",
       "      <td>67142.857143</td>\n",
       "      <td>98939.800000</td>\n",
       "      <td>70000</td>\n",
       "    </tr>\n",
       "    <tr>\n",
       "      <th>2</th>\n",
       "      <td>3</td>\n",
       "      <td>74944.157895</td>\n",
       "      <td>82000.000000</td>\n",
       "      <td>2020</td>\n",
       "      <td>5.0</td>\n",
       "      <td>238150.063158</td>\n",
       "      <td>291938.378906</td>\n",
       "      <td>173975.000000</td>\n",
       "      <td>77960.000000</td>\n",
       "      <td>85000</td>\n",
       "    </tr>\n",
       "    <tr>\n",
       "      <th>3</th>\n",
       "      <td>4</td>\n",
       "      <td>82155.875000</td>\n",
       "      <td>88666.666667</td>\n",
       "      <td>2020</td>\n",
       "      <td>5.0</td>\n",
       "      <td>209231.345679</td>\n",
       "      <td>291938.378906</td>\n",
       "      <td>86779.560000</td>\n",
       "      <td>81892.000000</td>\n",
       "      <td>90000</td>\n",
       "    </tr>\n",
       "    <tr>\n",
       "      <th>4</th>\n",
       "      <td>5</td>\n",
       "      <td>358419.750000</td>\n",
       "      <td>65500.000000</td>\n",
       "      <td>2020</td>\n",
       "      <td>5.0</td>\n",
       "      <td>199862.150000</td>\n",
       "      <td>291938.378906</td>\n",
       "      <td>305769.187500</td>\n",
       "      <td>75319.800000</td>\n",
       "      <td>65000</td>\n",
       "    </tr>\n",
       "    <tr>\n",
       "      <th>...</th>\n",
       "      <td>...</td>\n",
       "      <td>...</td>\n",
       "      <td>...</td>\n",
       "      <td>...</td>\n",
       "      <td>...</td>\n",
       "      <td>...</td>\n",
       "      <td>...</td>\n",
       "      <td>...</td>\n",
       "      <td>...</td>\n",
       "      <td>...</td>\n",
       "    </tr>\n",
       "    <tr>\n",
       "      <th>303</th>\n",
       "      <td>304</td>\n",
       "      <td>82291.000000</td>\n",
       "      <td>81916.000000</td>\n",
       "      <td>2017</td>\n",
       "      <td>3.0</td>\n",
       "      <td>238150.063158</td>\n",
       "      <td>291938.378906</td>\n",
       "      <td>75578.000000</td>\n",
       "      <td>296598.903226</td>\n",
       "      <td>81916</td>\n",
       "    </tr>\n",
       "    <tr>\n",
       "      <th>304</th>\n",
       "      <td>305</td>\n",
       "      <td>82291.000000</td>\n",
       "      <td>82666.000000</td>\n",
       "      <td>2017</td>\n",
       "      <td>3.0</td>\n",
       "      <td>238150.063158</td>\n",
       "      <td>291938.378906</td>\n",
       "      <td>74406.000000</td>\n",
       "      <td>285410.000000</td>\n",
       "      <td>82666</td>\n",
       "    </tr>\n",
       "    <tr>\n",
       "      <th>305</th>\n",
       "      <td>306</td>\n",
       "      <td>82291.000000</td>\n",
       "      <td>83416.000000</td>\n",
       "      <td>2017</td>\n",
       "      <td>3.0</td>\n",
       "      <td>238150.063158</td>\n",
       "      <td>291938.378906</td>\n",
       "      <td>75578.000000</td>\n",
       "      <td>368505.812500</td>\n",
       "      <td>83416</td>\n",
       "    </tr>\n",
       "    <tr>\n",
       "      <th>306</th>\n",
       "      <td>307</td>\n",
       "      <td>82291.000000</td>\n",
       "      <td>84166.000000</td>\n",
       "      <td>2017</td>\n",
       "      <td>3.0</td>\n",
       "      <td>238150.063158</td>\n",
       "      <td>291938.378906</td>\n",
       "      <td>74406.000000</td>\n",
       "      <td>341224.909091</td>\n",
       "      <td>84166</td>\n",
       "    </tr>\n",
       "    <tr>\n",
       "      <th>307</th>\n",
       "      <td>308</td>\n",
       "      <td>82291.000000</td>\n",
       "      <td>84916.000000</td>\n",
       "      <td>2017</td>\n",
       "      <td>3.0</td>\n",
       "      <td>238150.063158</td>\n",
       "      <td>291938.378906</td>\n",
       "      <td>121299.200000</td>\n",
       "      <td>422558.785714</td>\n",
       "      <td>84916</td>\n",
       "    </tr>\n",
       "  </tbody>\n",
       "</table>\n",
       "<p>305 rows × 10 columns</p>\n",
       "</div>"
      ],
      "text/plain": [
       "     S.no   Bike_company     Bike_model  Manufactured_year  Engine_warranty  \\\n",
       "0       1  209166.666667  113000.000000               2020              5.0   \n",
       "1       2  101312.500000   75000.000000               2020              5.0   \n",
       "2       3   74944.157895   82000.000000               2020              5.0   \n",
       "3       4   82155.875000   88666.666667               2020              5.0   \n",
       "4       5  358419.750000   65500.000000               2020              5.0   \n",
       "..    ...            ...            ...                ...              ...   \n",
       "303   304   82291.000000   81916.000000               2017              3.0   \n",
       "304   305   82291.000000   82666.000000               2017              3.0   \n",
       "305   306   82291.000000   83416.000000               2017              3.0   \n",
       "306   307   82291.000000   84166.000000               2017              3.0   \n",
       "307   308   82291.000000   84916.000000               2017              3.0   \n",
       "\n",
       "       Engine_type      Fuel_type  CC(Cubic capacity)  Fuel_Capacity   Price  \n",
       "0    209231.345679  291938.378906       121299.200000   94000.000000  113000  \n",
       "1    199862.150000  291938.378906        67142.857143   98939.800000   70000  \n",
       "2    238150.063158  291938.378906       173975.000000   77960.000000   85000  \n",
       "3    209231.345679  291938.378906        86779.560000   81892.000000   90000  \n",
       "4    199862.150000  291938.378906       305769.187500   75319.800000   65000  \n",
       "..             ...            ...                 ...            ...     ...  \n",
       "303  238150.063158  291938.378906        75578.000000  296598.903226   81916  \n",
       "304  238150.063158  291938.378906        74406.000000  285410.000000   82666  \n",
       "305  238150.063158  291938.378906        75578.000000  368505.812500   83416  \n",
       "306  238150.063158  291938.378906        74406.000000  341224.909091   84166  \n",
       "307  238150.063158  291938.378906       121299.200000  422558.785714   84916  \n",
       "\n",
       "[305 rows x 10 columns]"
      ]
     },
     "execution_count": 11,
     "metadata": {},
     "output_type": "execute_result"
    }
   ],
   "source": [
    "df"
   ]
  },
  {
   "cell_type": "code",
   "execution_count": 12,
   "id": "dc65f6f6",
   "metadata": {},
   "outputs": [
    {
     "data": {
      "text/html": [
       "<div>\n",
       "<style scoped>\n",
       "    .dataframe tbody tr th:only-of-type {\n",
       "        vertical-align: middle;\n",
       "    }\n",
       "\n",
       "    .dataframe tbody tr th {\n",
       "        vertical-align: top;\n",
       "    }\n",
       "\n",
       "    .dataframe thead th {\n",
       "        text-align: right;\n",
       "    }\n",
       "</style>\n",
       "<table border=\"1\" class=\"dataframe\">\n",
       "  <thead>\n",
       "    <tr style=\"text-align: right;\">\n",
       "      <th></th>\n",
       "      <th>S.no</th>\n",
       "      <th>Bike_company</th>\n",
       "      <th>Bike_model</th>\n",
       "      <th>Manufactured_year</th>\n",
       "      <th>Engine_warranty</th>\n",
       "      <th>Engine_type</th>\n",
       "      <th>Fuel_type</th>\n",
       "      <th>CC(Cubic capacity)</th>\n",
       "      <th>Fuel_Capacity</th>\n",
       "      <th>Price</th>\n",
       "    </tr>\n",
       "  </thead>\n",
       "  <tbody>\n",
       "    <tr>\n",
       "      <th>0</th>\n",
       "      <td>0.000000</td>\n",
       "      <td>0.167208</td>\n",
       "      <td>0.036416</td>\n",
       "      <td>0.983766</td>\n",
       "      <td>0.062500</td>\n",
       "      <td>0.025718</td>\n",
       "      <td>1.0</td>\n",
       "      <td>0.034236</td>\n",
       "      <td>0.027686</td>\n",
       "      <td>0.036416</td>\n",
       "    </tr>\n",
       "    <tr>\n",
       "      <th>1</th>\n",
       "      <td>0.003257</td>\n",
       "      <td>0.044845</td>\n",
       "      <td>0.014451</td>\n",
       "      <td>0.983766</td>\n",
       "      <td>0.062500</td>\n",
       "      <td>0.013281</td>\n",
       "      <td>1.0</td>\n",
       "      <td>0.002703</td>\n",
       "      <td>0.033046</td>\n",
       "      <td>0.011561</td>\n",
       "    </tr>\n",
       "    <tr>\n",
       "      <th>2</th>\n",
       "      <td>0.006515</td>\n",
       "      <td>0.014929</td>\n",
       "      <td>0.018497</td>\n",
       "      <td>0.983766</td>\n",
       "      <td>0.062500</td>\n",
       "      <td>0.064104</td>\n",
       "      <td>1.0</td>\n",
       "      <td>0.064906</td>\n",
       "      <td>0.010279</td>\n",
       "      <td>0.020231</td>\n",
       "    </tr>\n",
       "    <tr>\n",
       "      <th>3</th>\n",
       "      <td>0.009772</td>\n",
       "      <td>0.023111</td>\n",
       "      <td>0.022351</td>\n",
       "      <td>0.983766</td>\n",
       "      <td>0.062500</td>\n",
       "      <td>0.025718</td>\n",
       "      <td>1.0</td>\n",
       "      <td>0.014137</td>\n",
       "      <td>0.014546</td>\n",
       "      <td>0.023122</td>\n",
       "    </tr>\n",
       "    <tr>\n",
       "      <th>4</th>\n",
       "      <td>0.013029</td>\n",
       "      <td>0.336540</td>\n",
       "      <td>0.008960</td>\n",
       "      <td>0.983766</td>\n",
       "      <td>0.062500</td>\n",
       "      <td>0.013281</td>\n",
       "      <td>1.0</td>\n",
       "      <td>0.141642</td>\n",
       "      <td>0.007414</td>\n",
       "      <td>0.008671</td>\n",
       "    </tr>\n",
       "    <tr>\n",
       "      <th>...</th>\n",
       "      <td>...</td>\n",
       "      <td>...</td>\n",
       "      <td>...</td>\n",
       "      <td>...</td>\n",
       "      <td>...</td>\n",
       "      <td>...</td>\n",
       "      <td>...</td>\n",
       "      <td>...</td>\n",
       "      <td>...</td>\n",
       "      <td>...</td>\n",
       "    </tr>\n",
       "    <tr>\n",
       "      <th>300</th>\n",
       "      <td>0.986971</td>\n",
       "      <td>0.023265</td>\n",
       "      <td>0.018449</td>\n",
       "      <td>0.982143</td>\n",
       "      <td>0.020833</td>\n",
       "      <td>0.064104</td>\n",
       "      <td>1.0</td>\n",
       "      <td>0.007615</td>\n",
       "      <td>0.247540</td>\n",
       "      <td>0.018449</td>\n",
       "    </tr>\n",
       "    <tr>\n",
       "      <th>301</th>\n",
       "      <td>0.990228</td>\n",
       "      <td>0.023265</td>\n",
       "      <td>0.018882</td>\n",
       "      <td>0.982143</td>\n",
       "      <td>0.020833</td>\n",
       "      <td>0.064104</td>\n",
       "      <td>1.0</td>\n",
       "      <td>0.006932</td>\n",
       "      <td>0.235398</td>\n",
       "      <td>0.018882</td>\n",
       "    </tr>\n",
       "    <tr>\n",
       "      <th>302</th>\n",
       "      <td>0.993485</td>\n",
       "      <td>0.023265</td>\n",
       "      <td>0.019316</td>\n",
       "      <td>0.982143</td>\n",
       "      <td>0.020833</td>\n",
       "      <td>0.064104</td>\n",
       "      <td>1.0</td>\n",
       "      <td>0.007615</td>\n",
       "      <td>0.325572</td>\n",
       "      <td>0.019316</td>\n",
       "    </tr>\n",
       "    <tr>\n",
       "      <th>303</th>\n",
       "      <td>0.996743</td>\n",
       "      <td>0.023265</td>\n",
       "      <td>0.019749</td>\n",
       "      <td>0.982143</td>\n",
       "      <td>0.020833</td>\n",
       "      <td>0.064104</td>\n",
       "      <td>1.0</td>\n",
       "      <td>0.006932</td>\n",
       "      <td>0.295967</td>\n",
       "      <td>0.019749</td>\n",
       "    </tr>\n",
       "    <tr>\n",
       "      <th>304</th>\n",
       "      <td>1.000000</td>\n",
       "      <td>0.023265</td>\n",
       "      <td>0.020183</td>\n",
       "      <td>0.982143</td>\n",
       "      <td>0.020833</td>\n",
       "      <td>0.064104</td>\n",
       "      <td>1.0</td>\n",
       "      <td>0.034236</td>\n",
       "      <td>0.384228</td>\n",
       "      <td>0.020183</td>\n",
       "    </tr>\n",
       "  </tbody>\n",
       "</table>\n",
       "<p>305 rows × 10 columns</p>\n",
       "</div>"
      ],
      "text/plain": [
       "         S.no  Bike_company  Bike_model  Manufactured_year  Engine_warranty  \\\n",
       "0    0.000000      0.167208    0.036416           0.983766         0.062500   \n",
       "1    0.003257      0.044845    0.014451           0.983766         0.062500   \n",
       "2    0.006515      0.014929    0.018497           0.983766         0.062500   \n",
       "3    0.009772      0.023111    0.022351           0.983766         0.062500   \n",
       "4    0.013029      0.336540    0.008960           0.983766         0.062500   \n",
       "..        ...           ...         ...                ...              ...   \n",
       "300  0.986971      0.023265    0.018449           0.982143         0.020833   \n",
       "301  0.990228      0.023265    0.018882           0.982143         0.020833   \n",
       "302  0.993485      0.023265    0.019316           0.982143         0.020833   \n",
       "303  0.996743      0.023265    0.019749           0.982143         0.020833   \n",
       "304  1.000000      0.023265    0.020183           0.982143         0.020833   \n",
       "\n",
       "     Engine_type  Fuel_type  CC(Cubic capacity)  Fuel_Capacity     Price  \n",
       "0       0.025718        1.0            0.034236       0.027686  0.036416  \n",
       "1       0.013281        1.0            0.002703       0.033046  0.011561  \n",
       "2       0.064104        1.0            0.064906       0.010279  0.020231  \n",
       "3       0.025718        1.0            0.014137       0.014546  0.023122  \n",
       "4       0.013281        1.0            0.141642       0.007414  0.008671  \n",
       "..           ...        ...                 ...            ...       ...  \n",
       "300     0.064104        1.0            0.007615       0.247540  0.018449  \n",
       "301     0.064104        1.0            0.006932       0.235398  0.018882  \n",
       "302     0.064104        1.0            0.007615       0.325572  0.019316  \n",
       "303     0.064104        1.0            0.006932       0.295967  0.019749  \n",
       "304     0.064104        1.0            0.034236       0.384228  0.020183  \n",
       "\n",
       "[305 rows x 10 columns]"
      ]
     },
     "execution_count": 12,
     "metadata": {},
     "output_type": "execute_result"
    }
   ],
   "source": [
    "from sklearn.preprocessing import MinMaxScaler\n",
    "scaler = MinMaxScaler()\n",
    "df1 = pd.DataFrame(scaler.fit_transform(df),columns = df.columns)\n",
    "df1\n"
   ]
  },
  {
   "cell_type": "code",
   "execution_count": 13,
   "id": "f0fd722a",
   "metadata": {},
   "outputs": [
    {
     "data": {
      "text/plain": [
       "((305,), (305, 9))"
      ]
     },
     "execution_count": 13,
     "metadata": {},
     "output_type": "execute_result"
    }
   ],
   "source": [
    "y = df1['Price']\n",
    "x = df1.drop(\"Price\",axis = 1)\n",
    "y.shape,x.shape"
   ]
  },
  {
   "cell_type": "code",
   "execution_count": 14,
   "id": "306c0b9e",
   "metadata": {},
   "outputs": [
    {
     "data": {
      "text/plain": [
       "((213, 9), (213,), (92, 9), (92,))"
      ]
     },
     "execution_count": 14,
     "metadata": {},
     "output_type": "execute_result"
    }
   ],
   "source": [
    "from sklearn.model_selection import train_test_split\n",
    "x_train,x_test,y_train,y_test = train_test_split(x,y,test_size = 0.3,random_state=1)\n",
    "x_train.shape,y_train.shape,x_test.shape,y_test.shape"
   ]
  },
  {
   "cell_type": "code",
   "execution_count": 15,
   "id": "e6c74975",
   "metadata": {},
   "outputs": [
    {
     "data": {
      "text/html": [
       "<style>#sk-container-id-1 {color: black;}#sk-container-id-1 pre{padding: 0;}#sk-container-id-1 div.sk-toggleable {background-color: white;}#sk-container-id-1 label.sk-toggleable__label {cursor: pointer;display: block;width: 100%;margin-bottom: 0;padding: 0.3em;box-sizing: border-box;text-align: center;}#sk-container-id-1 label.sk-toggleable__label-arrow:before {content: \"▸\";float: left;margin-right: 0.25em;color: #696969;}#sk-container-id-1 label.sk-toggleable__label-arrow:hover:before {color: black;}#sk-container-id-1 div.sk-estimator:hover label.sk-toggleable__label-arrow:before {color: black;}#sk-container-id-1 div.sk-toggleable__content {max-height: 0;max-width: 0;overflow: hidden;text-align: left;background-color: #f0f8ff;}#sk-container-id-1 div.sk-toggleable__content pre {margin: 0.2em;color: black;border-radius: 0.25em;background-color: #f0f8ff;}#sk-container-id-1 input.sk-toggleable__control:checked~div.sk-toggleable__content {max-height: 200px;max-width: 100%;overflow: auto;}#sk-container-id-1 input.sk-toggleable__control:checked~label.sk-toggleable__label-arrow:before {content: \"▾\";}#sk-container-id-1 div.sk-estimator input.sk-toggleable__control:checked~label.sk-toggleable__label {background-color: #d4ebff;}#sk-container-id-1 div.sk-label input.sk-toggleable__control:checked~label.sk-toggleable__label {background-color: #d4ebff;}#sk-container-id-1 input.sk-hidden--visually {border: 0;clip: rect(1px 1px 1px 1px);clip: rect(1px, 1px, 1px, 1px);height: 1px;margin: -1px;overflow: hidden;padding: 0;position: absolute;width: 1px;}#sk-container-id-1 div.sk-estimator {font-family: monospace;background-color: #f0f8ff;border: 1px dotted black;border-radius: 0.25em;box-sizing: border-box;margin-bottom: 0.5em;}#sk-container-id-1 div.sk-estimator:hover {background-color: #d4ebff;}#sk-container-id-1 div.sk-parallel-item::after {content: \"\";width: 100%;border-bottom: 1px solid gray;flex-grow: 1;}#sk-container-id-1 div.sk-label:hover label.sk-toggleable__label {background-color: #d4ebff;}#sk-container-id-1 div.sk-serial::before {content: \"\";position: absolute;border-left: 1px solid gray;box-sizing: border-box;top: 0;bottom: 0;left: 50%;z-index: 0;}#sk-container-id-1 div.sk-serial {display: flex;flex-direction: column;align-items: center;background-color: white;padding-right: 0.2em;padding-left: 0.2em;position: relative;}#sk-container-id-1 div.sk-item {position: relative;z-index: 1;}#sk-container-id-1 div.sk-parallel {display: flex;align-items: stretch;justify-content: center;background-color: white;position: relative;}#sk-container-id-1 div.sk-item::before, #sk-container-id-1 div.sk-parallel-item::before {content: \"\";position: absolute;border-left: 1px solid gray;box-sizing: border-box;top: 0;bottom: 0;left: 50%;z-index: -1;}#sk-container-id-1 div.sk-parallel-item {display: flex;flex-direction: column;z-index: 1;position: relative;background-color: white;}#sk-container-id-1 div.sk-parallel-item:first-child::after {align-self: flex-end;width: 50%;}#sk-container-id-1 div.sk-parallel-item:last-child::after {align-self: flex-start;width: 50%;}#sk-container-id-1 div.sk-parallel-item:only-child::after {width: 0;}#sk-container-id-1 div.sk-dashed-wrapped {border: 1px dashed gray;margin: 0 0.4em 0.5em 0.4em;box-sizing: border-box;padding-bottom: 0.4em;background-color: white;}#sk-container-id-1 div.sk-label label {font-family: monospace;font-weight: bold;display: inline-block;line-height: 1.2em;}#sk-container-id-1 div.sk-label-container {text-align: center;}#sk-container-id-1 div.sk-container {/* jupyter's `normalize.less` sets `[hidden] { display: none; }` but bootstrap.min.css set `[hidden] { display: none !important; }` so we also need the `!important` here to be able to override the default hidden behavior on the sphinx rendered scikit-learn.org. See: https://github.com/scikit-learn/scikit-learn/issues/21755 */display: inline-block !important;position: relative;}#sk-container-id-1 div.sk-text-repr-fallback {display: none;}</style><div id=\"sk-container-id-1\" class=\"sk-top-container\"><div class=\"sk-text-repr-fallback\"><pre>LinearRegression()</pre><b>In a Jupyter environment, please rerun this cell to show the HTML representation or trust the notebook. <br />On GitHub, the HTML representation is unable to render, please try loading this page with nbviewer.org.</b></div><div class=\"sk-container\" hidden><div class=\"sk-item\"><div class=\"sk-estimator sk-toggleable\"><input class=\"sk-toggleable__control sk-hidden--visually\" id=\"sk-estimator-id-1\" type=\"checkbox\" checked><label for=\"sk-estimator-id-1\" class=\"sk-toggleable__label sk-toggleable__label-arrow\">LinearRegression</label><div class=\"sk-toggleable__content\"><pre>LinearRegression()</pre></div></div></div></div></div>"
      ],
      "text/plain": [
       "LinearRegression()"
      ]
     },
     "execution_count": 15,
     "metadata": {},
     "output_type": "execute_result"
    }
   ],
   "source": [
    "from sklearn.linear_model import LinearRegression\n",
    "model = LinearRegression()\n",
    "model.fit(x_train,y_train)"
   ]
  },
  {
   "cell_type": "code",
   "execution_count": 16,
   "id": "5272fe60",
   "metadata": {},
   "outputs": [],
   "source": [
    "x_pred = model.predict(x_train)\n",
    "y_pred = model.predict(x_test)"
   ]
  },
  {
   "cell_type": "code",
   "execution_count": 17,
   "id": "3a3c47aa",
   "metadata": {},
   "outputs": [
    {
     "data": {
      "text/plain": [
       "array([ 1.08551702e-01,  1.08694219e-02,  1.91554288e-02,  1.64679480e-01,\n",
       "        1.22859558e-02,  7.67352510e-02,  1.34205689e-02,  1.28193369e-03,\n",
       "        1.39918637e-01,  3.33680022e-01,  1.47314905e-03,  3.37381995e-01,\n",
       "        2.67127460e-02,  1.37538167e-02,  1.23396889e-02,  4.10216884e-04,\n",
       "        1.71833880e-01, -6.42973913e-04,  4.29682416e-03,  8.32352830e-03,\n",
       "        1.18520463e-01,  2.33836629e-01,  8.29648908e-01,  4.83908395e-02,\n",
       "        1.03066235e+00,  1.72483339e-02,  1.40739443e-01,  1.97784478e-01,\n",
       "        2.72072007e-02,  8.09883478e-04,  1.08738704e-02,  7.71087287e-02,\n",
       "        2.48901795e-01,  7.63402809e-03,  3.48952941e-01,  1.66509431e-01,\n",
       "        6.46309091e-01,  3.12468209e-01,  5.80361833e-03,  1.92980372e-01,\n",
       "        1.28734894e-02,  2.05585816e-02,  2.39278305e-01,  1.79966487e-01,\n",
       "        1.47027673e-02,  3.52950127e-02,  2.30005278e-02,  2.54302529e-01,\n",
       "        1.43491767e-01,  5.44635656e-01, -2.88048630e-03,  8.91247226e-03,\n",
       "        1.36140392e-01,  2.76555170e-02,  6.25673485e-02,  7.36559744e-03,\n",
       "        5.02083430e-01,  5.39358207e-02,  8.32992433e-03,  2.30125163e-01,\n",
       "        1.66718110e-02,  1.23039341e-03,  3.46597386e-01,  1.78773480e-01,\n",
       "        5.01602250e-02,  1.12831455e-02,  3.45497866e-01,  3.59194438e-02,\n",
       "        7.77267181e-02,  1.11255984e-02,  1.49413773e-02,  4.60551898e-02,\n",
       "        1.47489727e-02,  2.80556379e-03,  7.02958728e-02,  1.05187455e-02,\n",
       "        2.26880053e-01,  5.08348018e-01,  1.03717786e-02,  1.48132088e-02,\n",
       "        4.40990763e-03,  1.35864775e-02,  9.62655311e-01,  4.66906518e-02,\n",
       "        2.36223379e-01,  1.42347538e-01,  1.77007507e-01,  1.82213964e-02,\n",
       "        3.32473067e-01,  4.01158848e-01,  1.50008220e-01,  3.03228813e-02,\n",
       "        3.23446016e-01, -3.12180778e-03,  5.98959768e-03,  8.89730603e-02,\n",
       "        1.50729696e-02,  2.92787780e-01,  1.17196309e-01,  7.79955947e-02,\n",
       "        2.34536243e-02,  9.53543430e-02, -3.51134486e-03,  8.50800986e-02,\n",
       "        2.75350196e-03,  1.00148211e-04,  1.50703192e-01,  2.61382168e-01,\n",
       "        1.78873964e-01,  3.06572725e-02,  2.43406043e-01,  4.62943347e-02,\n",
       "        3.54135758e-01,  1.31947845e-02,  2.01692489e-02,  1.48188076e-02,\n",
       "        1.27519862e-01,  1.57687930e-02,  6.53517317e-02,  8.40305739e-02,\n",
       "       -1.21596911e-03,  8.00641063e-02, -6.53878883e-03,  5.54968901e-03,\n",
       "        1.99297989e-02,  1.11104236e-02,  7.36951670e-02,  1.98440107e-02,\n",
       "        1.22620872e-01,  1.08465467e-02,  3.14316745e-01,  8.22078623e-03,\n",
       "        2.53641282e-01,  5.50446742e-03,  8.95072988e-02,  1.50528704e-03,\n",
       "        1.07651326e-01,  4.73810391e-02,  6.76085076e-02,  2.82970617e-02,\n",
       "       -2.41832826e-04,  7.23479496e-03,  4.91183004e-01,  2.51695459e-02,\n",
       "        1.03785943e-02,  2.84306672e-01,  2.93576065e-01,  4.52489455e-01,\n",
       "        2.51655440e-01,  2.33874547e-01,  1.78039664e-01,  1.97156819e-02,\n",
       "        1.18325778e-01,  1.68526806e-02,  7.85870898e-03,  7.09131692e-03,\n",
       "        5.08940411e-02,  1.19238066e-02,  1.02765481e-01,  1.79681362e-01,\n",
       "        2.02795386e-02,  6.32006007e-02,  3.06714474e-03,  1.98891109e-02,\n",
       "        6.57762291e-03,  5.39182215e-02,  1.16369365e-02,  2.77710623e-02,\n",
       "        2.92781266e-02,  3.40164025e-01,  2.74642614e-01,  9.71583835e-03,\n",
       "        2.53437401e-02,  4.94903893e-03,  4.84106993e-02,  2.11537869e-01,\n",
       "        8.65665557e-03,  3.04281659e-01,  1.67332584e-02,  6.87786689e-01,\n",
       "        1.25375915e-02,  1.40946049e-04,  5.52116911e-01,  4.20663941e-02,\n",
       "        1.73213106e-02,  1.47212628e-02,  6.26906932e-02, -1.55004355e-03,\n",
       "        8.78558806e-03,  9.06538581e-02,  5.32942760e-02,  1.80423391e-01,\n",
       "        1.08869893e-01,  2.63954401e-01,  1.36794692e-02,  1.68566185e-02,\n",
       "        1.26392753e-01,  2.65665859e-02,  4.53345075e-01,  5.76382870e-01,\n",
       "        1.32263137e-02,  1.59302716e-02,  2.04299877e-02,  2.42019369e-01,\n",
       "        1.35416878e-02,  1.67507779e-02,  7.42802392e-04,  1.56037891e-02,\n",
       "        1.16192697e-02,  6.69317084e-01,  5.53307375e-04,  1.69061396e-01,\n",
       "        2.66597559e-02])"
      ]
     },
     "execution_count": 17,
     "metadata": {},
     "output_type": "execute_result"
    }
   ],
   "source": [
    "x_pred"
   ]
  },
  {
   "cell_type": "code",
   "execution_count": 18,
   "id": "6f3c1d50",
   "metadata": {},
   "outputs": [
    {
     "data": {
      "text/plain": [
       "array([ 2.27841406e-01,  2.68658752e-02,  1.97407362e-01,  7.36266557e-02,\n",
       "        5.52284671e-01,  1.44123386e-02,  7.26307222e-02,  5.53388727e-01,\n",
       "        2.08866659e-02,  1.09305542e-02,  2.94309880e-01,  5.03349942e-01,\n",
       "        7.13638479e-03,  9.96116858e-02,  8.85775134e-03,  3.04916597e-02,\n",
       "        3.68240395e-02,  1.96781606e-01,  2.60589386e-02,  7.54322104e-01,\n",
       "        1.82733537e-01,  2.39435216e-02,  7.71932904e-03,  2.18545687e-02,\n",
       "        4.68544299e-02,  2.13817197e-01,  7.36233020e-03, -6.64316522e-04,\n",
       "        1.62212330e-01,  5.26557153e-03,  1.06915537e-01,  5.12896943e-02,\n",
       "        2.95417788e-01,  5.10935664e-02,  2.99496756e-01, -7.64822798e-04,\n",
       "        1.31031215e-02,  5.70475225e-02,  1.55285265e-02,  3.13428416e-02,\n",
       "        8.04520284e-03,  3.22190549e-02,  8.73684890e-02,  3.58668134e-01,\n",
       "        8.97085244e-02,  8.91986374e-02,  8.76154115e-02,  1.75061113e-02,\n",
       "        8.89878121e-02,  4.46870079e-01,  2.53001245e-02,  5.26034538e-02,\n",
       "        8.90882963e-02,  1.51152661e-01,  6.17054491e-03,  6.97026279e-02,\n",
       "        3.09394263e-02, -1.07542754e-04,  4.11277897e-03,  4.89643522e-03,\n",
       "        6.25654506e-02,  2.42921349e-02,  1.80732044e-01,  6.13118382e-02,\n",
       "        3.40541497e-02,  2.58375073e-01,  1.20913696e-01,  2.69575801e-02,\n",
       "        4.47873798e-01,  7.95128776e-03,  1.02033064e-01,  1.93048794e-02,\n",
       "        1.93908000e-02,  3.26368904e-01,  1.43939348e-02,  2.26888690e-02,\n",
       "        5.04107560e-03,  3.74335312e-01,  1.24624221e-02,  2.82276340e-01,\n",
       "        2.67980326e-01,  1.89284014e-02,  8.43380696e-02,  8.56192299e-02,\n",
       "        3.56475298e-01,  8.23167700e-02,  3.12679712e-02,  3.54170876e-02,\n",
       "        1.27586238e-02,  1.59718459e-01,  2.94912891e-01,  1.14002113e-02])"
      ]
     },
     "execution_count": 18,
     "metadata": {},
     "output_type": "execute_result"
    }
   ],
   "source": [
    "y_pred"
   ]
  },
  {
   "cell_type": "code",
   "execution_count": 19,
   "id": "73f0005f",
   "metadata": {},
   "outputs": [
    {
     "data": {
      "text/plain": [
       "array([-1.94038026e-03, -9.48267994e-03,  8.87354061e-01,  4.73573709e-03,\n",
       "        1.41681122e-02,  6.48083488e-03,  7.24865427e-04,  1.25581508e-01,\n",
       "        4.17393155e-02])"
      ]
     },
     "execution_count": 19,
     "metadata": {},
     "output_type": "execute_result"
    }
   ],
   "source": [
    "model.coef_"
   ]
  },
  {
   "cell_type": "code",
   "execution_count": 20,
   "id": "574356e8",
   "metadata": {},
   "outputs": [
    {
     "data": {
      "text/plain": [
       "-0.011680056020350799"
      ]
     },
     "execution_count": 20,
     "metadata": {},
     "output_type": "execute_result"
    }
   ],
   "source": [
    "model.intercept_"
   ]
  },
  {
   "cell_type": "code",
   "execution_count": 21,
   "id": "09c64ea9",
   "metadata": {},
   "outputs": [
    {
     "data": {
      "text/plain": [
       "0.9629450880162067"
      ]
     },
     "execution_count": 21,
     "metadata": {},
     "output_type": "execute_result"
    }
   ],
   "source": [
    "model.score(x_test,y_test)"
   ]
  },
  {
   "cell_type": "code",
   "execution_count": 22,
   "id": "0a1af6b9",
   "metadata": {},
   "outputs": [],
   "source": [
    "y_test_predict = model.predict(x_test)"
   ]
  },
  {
   "cell_type": "code",
   "execution_count": 23,
   "id": "82046299",
   "metadata": {},
   "outputs": [
    {
     "data": {
      "text/plain": [
       "array([ 2.27841406e-01,  2.68658752e-02,  1.97407362e-01,  7.36266557e-02,\n",
       "        5.52284671e-01,  1.44123386e-02,  7.26307222e-02,  5.53388727e-01,\n",
       "        2.08866659e-02,  1.09305542e-02,  2.94309880e-01,  5.03349942e-01,\n",
       "        7.13638479e-03,  9.96116858e-02,  8.85775134e-03,  3.04916597e-02,\n",
       "        3.68240395e-02,  1.96781606e-01,  2.60589386e-02,  7.54322104e-01,\n",
       "        1.82733537e-01,  2.39435216e-02,  7.71932904e-03,  2.18545687e-02,\n",
       "        4.68544299e-02,  2.13817197e-01,  7.36233020e-03, -6.64316522e-04,\n",
       "        1.62212330e-01,  5.26557153e-03,  1.06915537e-01,  5.12896943e-02,\n",
       "        2.95417788e-01,  5.10935664e-02,  2.99496756e-01, -7.64822798e-04,\n",
       "        1.31031215e-02,  5.70475225e-02,  1.55285265e-02,  3.13428416e-02,\n",
       "        8.04520284e-03,  3.22190549e-02,  8.73684890e-02,  3.58668134e-01,\n",
       "        8.97085244e-02,  8.91986374e-02,  8.76154115e-02,  1.75061113e-02,\n",
       "        8.89878121e-02,  4.46870079e-01,  2.53001245e-02,  5.26034538e-02,\n",
       "        8.90882963e-02,  1.51152661e-01,  6.17054491e-03,  6.97026279e-02,\n",
       "        3.09394263e-02, -1.07542754e-04,  4.11277897e-03,  4.89643522e-03,\n",
       "        6.25654506e-02,  2.42921349e-02,  1.80732044e-01,  6.13118382e-02,\n",
       "        3.40541497e-02,  2.58375073e-01,  1.20913696e-01,  2.69575801e-02,\n",
       "        4.47873798e-01,  7.95128776e-03,  1.02033064e-01,  1.93048794e-02,\n",
       "        1.93908000e-02,  3.26368904e-01,  1.43939348e-02,  2.26888690e-02,\n",
       "        5.04107560e-03,  3.74335312e-01,  1.24624221e-02,  2.82276340e-01,\n",
       "        2.67980326e-01,  1.89284014e-02,  8.43380696e-02,  8.56192299e-02,\n",
       "        3.56475298e-01,  8.23167700e-02,  3.12679712e-02,  3.54170876e-02,\n",
       "        1.27586238e-02,  1.59718459e-01,  2.94912891e-01,  1.14002113e-02])"
      ]
     },
     "execution_count": 23,
     "metadata": {},
     "output_type": "execute_result"
    }
   ],
   "source": [
    "y_test_predict"
   ]
  },
  {
   "cell_type": "code",
   "execution_count": 24,
   "id": "783caa10",
   "metadata": {},
   "outputs": [
    {
     "name": "stderr",
     "output_type": "stream",
     "text": [
      "No artists with labels found to put in legend.  Note that artists whose label start with an underscore are ignored when legend() is called with no argument.\n"
     ]
    },
    {
     "data": {
      "image/png": "[encoded data removed]",
      "text/plain": [
       "<Figure size 640x480 with 1 Axes>"
      ]
     },
     "metadata": {},
     "output_type": "display_data"
    }
   ],
   "source": [
    "import matplotlib.pyplot as plt\n",
    "fig = plt.figure()\n",
    "plt.scatter(y_test_predict,y_test)\n",
    "plt.legend()\n",
    "plt.show()"
   ]
  },
  {
   "cell_type": "code",
   "execution_count": 25,
   "id": "54e01658",
   "metadata": {},
   "outputs": [
    {
     "data": {
      "text/plain": [
       "(array([0, 1, 2, 3, 4, 5, 6, 7, 8]),\n",
       " [Text(0, 0, 'S.no'),\n",
       "  Text(1, 0, 'Bike_company'),\n",
       "  Text(2, 0, 'Bike_model'),\n",
       "  Text(3, 0, 'Manufactured_year'),\n",
       "  Text(4, 0, 'Engine_warranty'),\n",
       "  Text(5, 0, 'Engine_type'),\n",
       "  Text(6, 0, 'Fuel_type'),\n",
       "  Text(7, 0, 'CC(Cubic capacity)'),\n",
       "  Text(8, 0, 'Fuel_Capacity')])"
      ]
     },
     "execution_count": 25,
     "metadata": {},
     "output_type": "execute_result"
    },
    {
     "data": {
      "image/png": "[encoded data removed]",
      "text/plain": [
       "<Figure size 640x480 with 1 Axes>"
      ]
     },
     "metadata": {},
     "output_type": "display_data"
    }
   ],
   "source": [
    "import seaborn as sns\n",
    "imp = pd.DataFrame(list(zip(x_test.columns,np.abs(model.coef_))),columns= ['Feature','coef'])\n",
    "sns.barplot(x='Feature',y='coef',data=imp)\n",
    "plt.xticks(rotation=90)"
   ]
  },
  {
   "cell_type": "code",
   "execution_count": null,
   "id": "f567c7d9",
   "metadata": {},
   "outputs": [],
   "source": []
  }
 ],
 "metadata": {
  "kernelspec": {
   "display_name": "Python 3 (ipykernel)",
   "language": "python",
   "name": "python3"
  },
  "language_info": {
   "codemirror_mode": {
    "name": "ipython",
    "version": 3
   },
   "file_extension": ".py",
   "mimetype": "text/x-python",
   "name": "python",
   "nbconvert_exporter": "python",
   "pygments_lexer": "ipython3",
   "version": "3.11.5"
  }
 },
 "nbformat": 4,
 "nbformat_minor": 5
}
